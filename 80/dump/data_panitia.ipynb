{
 "cells": [
  {
   "cell_type": "code",
   "execution_count": 6,
   "id": "48773008-bdbc-412e-b25c-0ba942f1f902",
   "metadata": {},
   "outputs": [],
   "source": [
    "import pandas as pd"
   ]
  },
  {
   "cell_type": "code",
   "execution_count": 7,
   "id": "0106edaa-cd77-4a5f-a808-b63842802b53",
   "metadata": {},
   "outputs": [],
   "source": [
    "data = pd.read_json(\"https://villa-gardenia.github.io/hut-ri/data/committee.json\")"
   ]
  },
  {
   "cell_type": "code",
   "execution_count": 12,
   "id": "6c004fa8-fbc0-4020-a194-e3eb56414909",
   "metadata": {},
   "outputs": [],
   "source": [
    "teams = data[\"teams\"].to_list()"
   ]
  },
  {
   "cell_type": "code",
   "execution_count": 21,
   "id": "97005892-c7bf-4e39-82cf-1a5f13f75a11",
   "metadata": {},
   "outputs": [],
   "source": [
    "all_data = []\n",
    "for a in [t[\"roles\"] for t in teams]:\n",
    "    for d in a:\n",
    "        all_data.append(d)"
   ]
  },
  {
   "cell_type": "code",
   "execution_count": 37,
   "id": "5b0c2324-6cea-4e85-a546-ad1abb93ef04",
   "metadata": {},
   "outputs": [],
   "source": [
    "names = {}\n",
    "for titles in all_data:\n",
    "    title = titles['title']\n",
    "    for nm in titles['names'][0].split(\",\"):\n",
    "        en = nm.replace(\"dr. \",\"\").strip()\n",
    "        if en in names:\n",
    "            names[en].append(title)\n",
    "        else:\n",
    "            names.update({en: [title]})"
   ]
  },
  {
   "cell_type": "code",
   "execution_count": 41,
   "id": "6a5bf382-a105-4d60-b064-7672dd3dddd8",
   "metadata": {},
   "outputs": [],
   "source": [
    "all_data = []\n",
    "for n in names:\n",
    "    all_data.append({'name':n, 'roles': names[n]})"
   ]
  },
  {
   "cell_type": "code",
   "execution_count": 44,
   "id": "399bf884-3edf-43dc-b717-4a6cb84362eb",
   "metadata": {},
   "outputs": [],
   "source": [
    "pd.DataFrame(all_data).to_excel('data_panitia.xlsx', index=False)"
   ]
  },
  {
   "cell_type": "code",
   "execution_count": null,
   "id": "479eaa5a-31eb-4a9a-b6a6-adb9212b2496",
   "metadata": {},
   "outputs": [],
   "source": []
  }
 ],
 "metadata": {
  "kernelspec": {
   "display_name": "Python 3 (ipykernel)",
   "language": "python",
   "name": "python3"
  },
  "language_info": {
   "codemirror_mode": {
    "name": "ipython",
    "version": 3
   },
   "file_extension": ".py",
   "mimetype": "text/x-python",
   "name": "python",
   "nbconvert_exporter": "python",
   "pygments_lexer": "ipython3",
   "version": "3.10.7"
  }
 },
 "nbformat": 4,
 "nbformat_minor": 5
}
